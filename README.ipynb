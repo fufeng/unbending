{
 "cells": [
  {
   "cell_type": "markdown",
   "metadata": {},
   "source": [
    "# Computer Code\n",
    "\n",
    "> custom computer code that allows readers to repeat the results."
   ]
  },
  {
   "cell_type": "markdown",
   "metadata": {},
   "source": [
    "## About\n",
    "\n",
    "There are three code files: common.py, Main.ipynb, and SI.ipynb.\n",
    "\n",
    "The notations in the code are consistent with those in the manuscript and the supplementary information.\n",
    "\n",
    "The order of the code is aligned with that of the manuscript (Main.ipynb) and the supplementary information (SI.ipynb).\n",
    "\n",
    "### common.py\n",
    "> shared variables and functions for Main.ipynb and SI.ipynb\n",
    "\n",
    "* symbols \n",
    "* plotting and graphing\n",
    "\n",
    "### Main.ipynb\n",
    "> figures in the manuscript and the rebuttal letter\n",
    "\n",
    "* plotting and graphing\n",
    "\n",
    "\n",
    "### SI.ipynb\n",
    "> results and figures in the supplementary information\n",
    "\n",
    "* expressions: equations, inequalities, solutions, ...\n",
    "* plotting and graphing"
   ]
  },
  {
   "cell_type": "markdown",
   "metadata": {},
   "source": [
    "## Instructions\n",
    "\n",
    "The code is organized into python files or ipython notebooks. \n",
    "\n",
    "The software, module and hardware list is given below.\n",
    "\n",
    "* Software\n",
    "\n",
    "> Python 3.8.8 and above\n",
    "\n",
    "* Module\n",
    "\n",
    "name | version | build | channel \n",
    "------------ | ------------- | ------------- | -------------\n",
    "numpy | 1.19.5 | pypi_0 | pypi\n",
    "sympy | 1.8 | py38hecd8cb5_0 | \n",
    "matplotlib | 3.3.4 | py38hecd8cb5_0 |\n",
    "seaborn | 0.11.1 | pyhd3eb1b0_0 | \n",
    "mpl_toolkits \n",
    "warnings \n",
    "\n",
    "> If we have matplotlib installed, we would be able to import mpl_toolkits directly.\n",
    "\n",
    "* OS\n",
    "\n",
    "> Mac OS X, Windows, or Linux\n",
    "\n",
    "\n",
    "We use Anaconda GUI to run our code (which comes with the packages automatically installed). Otherwise, we may run `pip install` with the name and version for every candidate item.\n",
    "\n",
    "\n",
    "### Get Started\n",
    "\n",
    "The figures are saved in the two folders below.\n",
    "```python\n",
    "'./figures/main/'\n",
    "```\n",
    "```python\n",
    "'./figures/SI/'\n",
    "```\n",
    "\n",
    "We can change the corresponding \n",
    "```python\n",
    "_Figure_PATH_\n",
    "```\n",
    "if needed.\n",
    "\n",
    "### How to Obtain the Expressions and Figures\n",
    "\n",
    "More detailed explanations are given in the comments (for python files and ipython notebooks) and markdown notes (for ipython notebooks).\n",
    "\n",
    "In particular, for every user-defined function, the corresponding docstring summarize its behavior and document its arguments."
   ]
  }
 ],
 "metadata": {
  "kernelspec": {
   "display_name": "Python 3",
   "language": "python",
   "name": "python3"
  },
  "language_info": {
   "codemirror_mode": {
    "name": "ipython",
    "version": 3
   },
   "file_extension": ".py",
   "mimetype": "text/x-python",
   "name": "python",
   "nbconvert_exporter": "python",
   "pygments_lexer": "ipython3",
   "version": "3.8.8"
  }
 },
 "nbformat": 4,
 "nbformat_minor": 2
}
